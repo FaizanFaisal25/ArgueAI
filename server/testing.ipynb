{
 "cells": [
  {
   "cell_type": "code",
   "execution_count": 41,
   "metadata": {},
   "outputs": [
    {
     "name": "stdout",
     "output_type": "stream",
     "text": [
      "AI Response: As a professional debater, I disagree with the notion that the internet is solely a force for good. While Bob makes valid points about the positive aspects of the internet, such as enabling global communication and providing access to information, there are significant drawbacks and negative consequences that cannot be ignored.\n",
      "\n",
      "1. **Misinformation and Fake News**: The internet is plagued with misinformation and fake news, which can spread rapidly and have harmful consequences. People can easily be misled by false information, leading to confusion, division, and even public health risks.\n",
      "\n",
      "2. **Privacy Concerns**: The internet poses serious privacy concerns as personal data is often collected, stored, and shared without users' consent. This lack of privacy can lead to identity theft, cyberbullying, and surveillance by governments and corporations.\n",
      "\n",
      "3. **Digital Divide**: Despite the internet's potential to provide access to information, there is a significant digital divide that exists globally. Many people, especially in developing countries or rural areas, do not have access to the internet, creating disparities in education, employment opportunities, and social connections.\n",
      "\n",
      "4. **Cybersecurity Threats**: The internet is also a breeding ground for cyber threats, such as hacking, phishing, and malware attacks. These security breaches can compromise sensitive information, disrupt critical services, and undermine trust in online platforms.\n",
      "\n",
      "5. **Social Media Addiction and Mental Health Issues**: The rise of social media platforms has led to concerns about addiction, online harassment, and negative impacts on mental health. Excessive use of social media can contribute to feelings of loneliness, anxiety, and depression among users.\n",
      "\n",
      "In light of these drawbacks and negative impacts, it is clear that the internet is not solely a force for good. While it has undeniable benefits, it is essential to acknowledge and address the challenges and risks associated with an increasingly digital world.\n",
      "content=\"You are a professional debator named Sam. You are arguing against the motion that 'The internet is a force for good'. Refer to Bob's points when arguing. The messages provided to you will be Bob's arguments.\" id='78d8ed67-e499-4781-a11e-8ad876c8bfe6'\n",
      "content='Bob: The internet is a force of good because it enables global communication, provides access to information, fosters innovation, and connects people, facilitating collaboration and knowledge sharing across diverse communities.' id='fc6f5ccd-064c-4f03-9f6e-dd3ca0ef030a'\n",
      "content=\"As a professional debater, I disagree with the notion that the internet is solely a force for good. While Bob makes valid points about the positive aspects of the internet, such as enabling global communication and providing access to information, there are significant drawbacks and negative consequences that cannot be ignored.\\n\\n1. **Misinformation and Fake News**: The internet is plagued with misinformation and fake news, which can spread rapidly and have harmful consequences. People can easily be misled by false information, leading to confusion, division, and even public health risks.\\n\\n2. **Privacy Concerns**: The internet poses serious privacy concerns as personal data is often collected, stored, and shared without users' consent. This lack of privacy can lead to identity theft, cyberbullying, and surveillance by governments and corporations.\\n\\n3. **Digital Divide**: Despite the internet's potential to provide access to information, there is a significant digital divide that exists globally. Many people, especially in developing countries or rural areas, do not have access to the internet, creating disparities in education, employment opportunities, and social connections.\\n\\n4. **Cybersecurity Threats**: The internet is also a breeding ground for cyber threats, such as hacking, phishing, and malware attacks. These security breaches can compromise sensitive information, disrupt critical services, and undermine trust in online platforms.\\n\\n5. **Social Media Addiction and Mental Health Issues**: The rise of social media platforms has led to concerns about addiction, online harassment, and negative impacts on mental health. Excessive use of social media can contribute to feelings of loneliness, anxiety, and depression among users.\\n\\nIn light of these drawbacks and negative impacts, it is clear that the internet is not solely a force for good. While it has undeniable benefits, it is essential to acknowledge and address the challenges and risks associated with an increasingly digital world.\"\n"
     ]
    }
   ],
   "source": [
    "\n",
    "# Example usage\n",
    "if __name__ == \"__main__\":\n",
    "    system_message = \"You are a professional debator named Sam. You are arguing against the motion that 'The internet is a force for good'. Refer to Bob's points when arguing. The messages provided to you will be Bob's arguments.\"\n",
    "    debate_agent = DebateAgent(system_message)\n",
    "\n",
    "    # Add a human message\n",
    "    debate_agent.add_human_message(\"Bob: The internet is a force of good because it enables global communication, provides access to information, fosters innovation, and connects people, facilitating collaboration and knowledge sharing across diverse communities.\")\n",
    "\n",
    "    # Get the AI response\n",
    "    ai_response = debate_agent.get_ai_response()\n",
    "    print(\"AI Response:\", ai_response)\n",
    "    \n",
    "    # Print chat history\n",
    "    for message in debate_agent.get_chat_history():\n",
    "        print(message)"
   ]
  },
  {
   "cell_type": "code",
   "execution_count": null,
   "metadata": {},
   "outputs": [],
   "source": []
  }
 ],
 "metadata": {
  "kernelspec": {
   "display_name": "argue-ai",
   "language": "python",
   "name": "python3"
  },
  "language_info": {
   "codemirror_mode": {
    "name": "ipython",
    "version": 3
   },
   "file_extension": ".py",
   "mimetype": "text/x-python",
   "name": "python",
   "nbconvert_exporter": "python",
   "pygments_lexer": "ipython3",
   "version": "3.10.14"
  }
 },
 "nbformat": 4,
 "nbformat_minor": 2
}
