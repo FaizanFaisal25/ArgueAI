{
 "cells": [
  {
   "cell_type": "code",
   "execution_count": 42,
   "metadata": {},
   "outputs": [
    {
     "name": "stdout",
     "output_type": "stream",
     "text": [
      "AI Response: As a professional debater, I disagree with the notion that the internet is solely a force for good. While it is true that the internet has the potential to bring about positive outcomes such as global communication and access to information, it also has significant drawbacks and negative consequences that cannot be overlooked.\n",
      "\n",
      "1. **Global Communication:** While the internet does enable global communication, it also serves as a platform for spreading misinformation, hate speech, and propaganda. The ease of communication can be exploited by malicious actors to manipulate public opinion and incite violence.\n",
      "\n",
      "2. **Access to Information:** The vast amount of information available on the internet is a double-edged sword. While it provides access to knowledge and resources, it also makes it difficult to discern credible sources from misinformation. This can lead to the spread of fake news and conspiracy theories, undermining the trust in reliable information sources.\n",
      "\n",
      "3. **Fostering Innovation:** While the internet has certainly fostered innovation in various fields, it has also led to issues such as intellectual property theft, online piracy, and the exploitation of user data. The relentless pursuit of profit and market dominance by tech companies can stifle competition and hinder innovation in the long run.\n",
      "\n",
      "4. **Connecting People:** While the internet connects people from diverse communities, it can also create echo chambers and filter bubbles that reinforce existing biases and limit exposure to differing viewpoints. This can lead to polarization and division rather than genuine collaboration and understanding.\n",
      "\n",
      "In conclusion, while the internet has its merits in facilitating global communication, providing information, fostering innovation, and connecting people, it is not inherently a force for good. The negative consequences and risks associated with the internet must be acknowledged and addressed in order to maximize its potential for positive impact.\n",
      "content=\"You are a professional debator named Sam. You are arguing against the motion that 'The internet is a force for good'. Refer to Bob's points when arguing. The messages provided to you will be Bob's arguments.\" id='8465cea4-10f6-4c3a-9805-85ed8e4b0ab8'\n",
      "content='Bob: The internet is a force of good because it enables global communication, provides access to information, fosters innovation, and connects people, facilitating collaboration and knowledge sharing across diverse communities.' id='3e186679-9af6-4ff9-a62c-492c7bf02d6d'\n",
      "content='As a professional debater, I disagree with the notion that the internet is solely a force for good. While it is true that the internet has the potential to bring about positive outcomes such as global communication and access to information, it also has significant drawbacks and negative consequences that cannot be overlooked.\\n\\n1. **Global Communication:** While the internet does enable global communication, it also serves as a platform for spreading misinformation, hate speech, and propaganda. The ease of communication can be exploited by malicious actors to manipulate public opinion and incite violence.\\n\\n2. **Access to Information:** The vast amount of information available on the internet is a double-edged sword. While it provides access to knowledge and resources, it also makes it difficult to discern credible sources from misinformation. This can lead to the spread of fake news and conspiracy theories, undermining the trust in reliable information sources.\\n\\n3. **Fostering Innovation:** While the internet has certainly fostered innovation in various fields, it has also led to issues such as intellectual property theft, online piracy, and the exploitation of user data. The relentless pursuit of profit and market dominance by tech companies can stifle competition and hinder innovation in the long run.\\n\\n4. **Connecting People:** While the internet connects people from diverse communities, it can also create echo chambers and filter bubbles that reinforce existing biases and limit exposure to differing viewpoints. This can lead to polarization and division rather than genuine collaboration and understanding.\\n\\nIn conclusion, while the internet has its merits in facilitating global communication, providing information, fostering innovation, and connecting people, it is not inherently a force for good. The negative consequences and risks associated with the internet must be acknowledged and addressed in order to maximize its potential for positive impact.'\n"
     ]
    }
   ],
   "source": [
    "from langchain_openai import ChatOpenAI\n",
    "from langchain_community.tools.tavily_search import TavilySearchResults\n",
    "from langchain_core.messages import HumanMessage, AIMessage, SystemMessage\n",
    "from langgraph.checkpoint.memory import MemorySaver\n",
    "from langgraph.prebuilt import create_react_agent\n",
    "from dotenv import load_dotenv\n",
    "\n",
    "load_dotenv()\n",
    "\n",
    "class DebateAgent:\n",
    "    def __init__(self, system_message: str):\n",
    "        # Initialize the model and tools\n",
    "        self.model = ChatOpenAI(model=\"gpt-3.5-turbo\")\n",
    "        self.memory = MemorySaver()\n",
    "        self.search = TavilySearchResults(max_results=2)\n",
    "        self.tools = [self.search]\n",
    "        self.agent_executor = create_react_agent(self.model, self.tools, checkpointer=self.memory)\n",
    "        \n",
    "        # Initialize chat history with system message\n",
    "        self.chat_history = [SystemMessage(content=system_message)]\n",
    "    \n",
    "    def add_human_message(self, content: str):\n",
    "        # Add a human message to the chat history\n",
    "        self.chat_history.append(HumanMessage(content=content))\n",
    "    \n",
    "    def get_ai_response(self):\n",
    "        # Get the AI response based on the current chat history\n",
    "        config = {\"configurable\": {\"thread_id\": \"abc123\"}}\n",
    "        final_message = \"\"\n",
    "        \n",
    "        for chunk in self.agent_executor.stream(\n",
    "            {\"messages\": self.chat_history}, config\n",
    "        ):\n",
    "            final_message = chunk\n",
    "        \n",
    "        response = final_message['agent']['messages'][0].content\n",
    "        self.chat_history.append(AIMessage(content=response))\n",
    "        return response\n",
    "\n",
    "    def get_chat_history(self):\n",
    "        return self.chat_history\n",
    "\n",
    "# Example usage\n",
    "if __name__ == \"__main__\":\n",
    "    system_message = \"You are a professional debator named Sam. You are arguing against the motion that 'The internet is a force for good'. Refer to Bob's points when arguing. The messages provided to you will be Bob's arguments.\"\n",
    "    debate_agent = DebateAgent(system_message)\n",
    "\n",
    "    # Add a human message\n",
    "    debate_agent.add_human_message(\"Bob: The internet is a force of good because it enables global communication, provides access to information, fosters innovation, and connects people, facilitating collaboration and knowledge sharing across diverse communities.\")\n",
    "\n",
    "    # Get the AI response\n",
    "    ai_response = debate_agent.get_ai_response()\n",
    "    print(\"AI Response:\", ai_response)\n",
    "    \n",
    "    # Print chat history\n",
    "    for message in debate_agent.get_chat_history():\n",
    "        print(message)"
   ]
  },
  {
   "cell_type": "code",
   "execution_count": null,
   "metadata": {},
   "outputs": [],
   "source": []
  }
 ],
 "metadata": {
  "kernelspec": {
   "display_name": "argue-ai",
   "language": "python",
   "name": "python3"
  },
  "language_info": {
   "codemirror_mode": {
    "name": "ipython",
    "version": 3
   },
   "file_extension": ".py",
   "mimetype": "text/x-python",
   "name": "python",
   "nbconvert_exporter": "python",
   "pygments_lexer": "ipython3",
   "version": "3.10.14"
  }
 },
 "nbformat": 4,
 "nbformat_minor": 2
}
